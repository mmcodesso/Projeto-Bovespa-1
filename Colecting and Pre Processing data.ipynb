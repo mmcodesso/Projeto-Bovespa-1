{
 "cells": [
  {
   "cell_type": "markdown",
   "metadata": {},
   "source": [
    "# Pre Processing the Data\n",
    "\n",
    "First we need to colect the text from PDFs and save it as a text file"
   ]
  },
  {
   "cell_type": "code",
   "execution_count": 1,
   "metadata": {
    "collapsed": true
   },
   "outputs": [],
   "source": [
    "#importing dependencies\n",
    "import os\n",
    "import sys\n",
    "import PyPDF2\n",
    "import numpy as np\n",
    "import pandas as pd\n",
    "import time"
   ]
  },
  {
   "cell_type": "code",
   "execution_count": null,
   "metadata": {
    "collapsed": false
   },
   "outputs": [],
   "source": [
    "#Inicializing the variabels\n",
    "iniTime = time.time()\n",
    "Categoria = []\n",
    "corpus = []\n",
    "label = []\n",
    "path_file = []\n",
    "counter = 0\n",
    "\n",
    "#Get the folder with each diferent kind of documents\n",
    "for _,pasta,_ in os.walk('./data/files/'):\n",
    "    Categoria += pasta \n",
    "   \n",
    "\n",
    "#For each folder, read all documents and extract the text    \n",
    "\n",
    "for n in range(len(Categoria)):\n",
    "    tipo = Categoria[n]\n",
    "    path = './data/files/'+ tipo\n",
    "    for _,pasta,arquivo in os.walk(path):\n",
    "        for files in arquivo:\n",
    "            \n",
    "            \n",
    "            texto = \"\"\n",
    "            arquivos= path +'/'+ files\n",
    "\n",
    "            #print log\n",
    "            counter += 1  \n",
    "            print(\" Reading file : \" + str(counter) + \" Arquivo : \" + str(arquivos))\n",
    "            \n",
    "             \n",
    "            if(files[-3:].lower() == 'pdf'):\n",
    "                         \n",
    "                #READ TEXT FROM PDF\n",
    "                pdfFileObj = open(arquivos, 'rb')\n",
    "                pdfReader = PyPDF2.PdfFileReader(pdfFileObj, strict=False, overwriteWarnings=True)\n",
    "                for n in range(pdfReader.numPages):\n",
    "                    texto += pdfReader.getPage(n).extractText().replace('\\n', '')\n",
    "                \n",
    "            elif (files[-3:].lower() == 'txt'):\n",
    "                # to convert .doc into txt files excecute this commands in terminal\n",
    "                # for file in *.doc; do antiword \"$file\" > \"$file\".txt ; done\n",
    "                #for file in *.DOC; do antiword \"$file\" > \"$file\".txt ; rm \"$file\" ; done\n",
    "                #Read Text from txt file\n",
    "                texto = open(arquivos).read().replace('\\n','')\n",
    "                \n",
    "            #Append the text and label to a list\n",
    "            corpus.append(texto)\n",
    "            label.append(tipo)\n",
    "            path_file.append(arquivos)  \n",
    "                \n",
    "       \n",
    "#Show the total time to extract the text                \n",
    "FinTime = time.time()\n",
    "totaltime = (FinTime-iniTime) / 60\n",
    "print (\"Tempo para extraçao dos texto PDF: \", totaltime, \"minutes\" )   "
   ]
  },
  {
   "cell_type": "code",
   "execution_count": 204,
   "metadata": {
    "collapsed": false
   },
   "outputs": [],
   "source": [
    "#Creating a DataFrame\n",
    "data_raw = pd.DataFrame(\n",
    "    {'Label': label,\n",
    "     'Corpus' : corpus,\n",
    "     'file' : path_file\n",
    "    })"
   ]
  },
  {
   "cell_type": "code",
   "execution_count": 205,
   "metadata": {
    "collapsed": false
   },
   "outputs": [],
   "source": [
    "#Saving the data\n",
    "data_raw.to_pickle('./data/data_raw/data_raw_.pik')"
   ]
  },
  {
   "cell_type": "markdown",
   "metadata": {},
   "source": [
    "## Loading Raw data and cleaning\n"
   ]
  },
  {
   "cell_type": "markdown",
   "metadata": {},
   "source": [
    "### Loading oferta publica raw data"
   ]
  },
  {
   "cell_type": "code",
   "execution_count": 2,
   "metadata": {
    "collapsed": true
   },
   "outputs": [],
   "source": [
    "data_raw_ofertapublica = pd.read_pickle('./data/data_raw/data_raw_ofertapublica.pik')"
   ]
  },
  {
   "cell_type": "code",
   "execution_count": 13,
   "metadata": {
    "collapsed": false
   },
   "outputs": [
    {
     "data": {
      "text/html": [
       "<div>\n",
       "<table border=\"1\" class=\"dataframe\">\n",
       "  <thead>\n",
       "    <tr style=\"text-align: right;\">\n",
       "      <th></th>\n",
       "      <th>Corpus</th>\n",
       "      <th>Label</th>\n",
       "      <th>file</th>\n",
       "    </tr>\n",
       "  </thead>\n",
       "  <tbody>\n",
       "    <tr>\n",
       "      <th>0</th>\n",
       "      <td>TIVIT TERCEIRIZAÇÃO DE PROCESSOS, SERVIÇOS E T...</td>\n",
       "      <td>Oferta Publica</td>\n",
       "      <td>./data/Oferta Publica/#346726-v4-FATO RELEVANT...</td>\n",
       "    </tr>\n",
       "    <tr>\n",
       "      <th>1</th>\n",
       "      <td>Text_SP  5020695v1  9812/17  BRAZIL PHARMA S.A...</td>\n",
       "      <td>Oferta Publica</td>\n",
       "      <td>./data/Oferta Publica/(06.07.12) BRPH - RCA - ...</td>\n",
       "    </tr>\n",
       "    <tr>\n",
       "      <th>2</th>\n",
       "      <td></td>\n",
       "      <td>Oferta Publica</td>\n",
       "      <td>./data/Oferta Publica/-0523346.pdf</td>\n",
       "    </tr>\n",
       "    <tr>\n",
       "      <th>3</th>\n",
       "      <td></td>\n",
       "      <td>Oferta Publica</td>\n",
       "      <td>./data/Oferta Publica/.DS_Store</td>\n",
       "    </tr>\n",
       "    <tr>\n",
       "      <th>4</th>\n",
       "      <td>PROSPECTO DEFINITIVO DA OFERTA PÚBLICA DE DIS...</td>\n",
       "      <td>Oferta Publica</td>\n",
       "      <td>./data/Oferta Publica/00804_EST015_DEF_PROVA_E...</td>\n",
       "    </tr>\n",
       "  </tbody>\n",
       "</table>\n",
       "</div>"
      ],
      "text/plain": [
       "                                              Corpus           Label  \\\n",
       "0  TIVIT TERCEIRIZAÇÃO DE PROCESSOS, SERVIÇOS E T...  Oferta Publica   \n",
       "1  Text_SP  5020695v1  9812/17  BRAZIL PHARMA S.A...  Oferta Publica   \n",
       "2                                                     Oferta Publica   \n",
       "3                                                     Oferta Publica   \n",
       "4   PROSPECTO DEFINITIVO DA OFERTA PÚBLICA DE DIS...  Oferta Publica   \n",
       "\n",
       "                                                file  \n",
       "0  ./data/Oferta Publica/#346726-v4-FATO RELEVANT...  \n",
       "1  ./data/Oferta Publica/(06.07.12) BRPH - RCA - ...  \n",
       "2                 ./data/Oferta Publica/-0523346.pdf  \n",
       "3                    ./data/Oferta Publica/.DS_Store  \n",
       "4  ./data/Oferta Publica/00804_EST015_DEF_PROVA_E...  "
      ]
     },
     "execution_count": 13,
     "metadata": {},
     "output_type": "execute_result"
    }
   ],
   "source": [
    "data_raw_ofertapublica.head()"
   ]
  },
  {
   "cell_type": "code",
   "execution_count": 403,
   "metadata": {
    "collapsed": true
   },
   "outputs": [],
   "source": [
    "corrupted_files_ofertapublica =[2,3,18,19,29,36,39,42,43,52,57,67,70,71,76,80,81,82,91,100,120,121,123,124,143,148, \\\n",
    "                                150,152,157,178,183,192,193,194,201,202,213,216,217,225,231,233,241,243,259,263,273,\\\n",
    "                                274,285,291,292,301,307,310,316,327,337,338,340,349,353,368,369,370,380,384,395,396,\\\n",
    "                                398,402,403,404,405,422,424,425,471,492,499,500,502,509,512,513,514,520,521,526,528,\\\n",
    "                                535,537,547,548,558,560,574,579,580,607,608,615,627,628,630,676,681,683,684,694,695,\\\n",
    "                                722,725,738,739,740,741,742,743,750,752,772,781,794,797,798,801,820,821,827,828,830,\\\n",
    "                                841,866,872,873,874,877,907,910,918,922,940,957,971,974,987,989,993,994,996,998,1000,\\\n",
    "                                1001,1012,1021,1026,1028,1029,1031,1035,1050,1057,1067,1079,1084,1085,1086,1089,1090,\\\n",
    "                                1096,1098\n",
    "]"
   ]
  },
  {
   "cell_type": "code",
   "execution_count": 404,
   "metadata": {
    "collapsed": false
   },
   "outputs": [],
   "source": [
    "#Saving the name of wrong files for future cleaning up\n",
    "data_raw['file'].iloc[corrupted_files_ofertapublica].to_csv('./data/files/ofertapublica_wrong.csv')"
   ]
  },
  {
   "cell_type": "code",
   "execution_count": 405,
   "metadata": {
    "collapsed": false
   },
   "outputs": [],
   "source": [
    "#Deleting wrong files\n",
    "data_raw_ofertapublica.drop(data_raw.index[corrupted_files_ofertapublica], inplace=True)"
   ]
  },
  {
   "cell_type": "code",
   "execution_count": 406,
   "metadata": {
    "collapsed": false
   },
   "outputs": [],
   "source": [
    "#Saving clean Data\n",
    "data_raw.to_pickle('./data/data_clean/Data_Clean_ofertapublica.pik')"
   ]
  },
  {
   "cell_type": "markdown",
   "metadata": {},
   "source": [
    "### Loading dividendos raw data"
   ]
  },
  {
   "cell_type": "code",
   "execution_count": 5,
   "metadata": {
    "collapsed": false
   },
   "outputs": [],
   "source": [
    "data_raw_dividendo = pd.read_pickle('./data/data_raw/data_raw_dividendo.pik')"
   ]
  },
  {
   "cell_type": "code",
   "execution_count": 7,
   "metadata": {
    "collapsed": false
   },
   "outputs": [
    {
     "data": {
      "text/html": [
       "<div>\n",
       "<table border=\"1\" class=\"dataframe\">\n",
       "  <thead>\n",
       "    <tr style=\"text-align: right;\">\n",
       "      <th></th>\n",
       "      <th>Corpus</th>\n",
       "      <th>Label</th>\n",
       "      <th>file</th>\n",
       "    </tr>\n",
       "  </thead>\n",
       "  <tbody>\n",
       "    <tr>\n",
       "      <th>0</th>\n",
       "      <td>˘ˇˆ˙˝˛˚˜˝ˇ˚ ˆ!˚˛ˇ\"˜# ˇ$$%ˇ˜˜&amp;&amp;&amp;˝˘˛˝&amp;$ˇˇ&amp;˚&amp;'˛&amp;˝...</td>\n",
       "      <td>Dividendo</td>\n",
       "      <td>./data/Dividendo/(1 EDITAL DE CONVOCAÇÃO 201...</td>\n",
       "    </tr>\n",
       "    <tr>\n",
       "      <th>1</th>\n",
       "      <td>TELEFÔNICA BRASIL S.A. Companhia Aberta CNP...</td>\n",
       "      <td>Dividendo</td>\n",
       "      <td>./data/Dividendo/(2017.02.13) Ata 311ª RCA - J...</td>\n",
       "    </tr>\n",
       "    <tr>\n",
       "      <th>2</th>\n",
       "      <td>BIOMM S. A. CNPJ/MF N0 04.752.991/0001-10 NIR...</td>\n",
       "      <td>Dividendo</td>\n",
       "      <td>./data/Dividendo/(Biomm) Ata AGO 29 04 2013(2)...</td>\n",
       "    </tr>\n",
       "    <tr>\n",
       "      <th>3</th>\n",
       "      <td>BIOMM S. A. CNPJ/MF Nº 04.752.991/0001-10 N...</td>\n",
       "      <td>Dividendo</td>\n",
       "      <td>./data/Dividendo/(Biomm) ata AGOE_30abril2014_...</td>\n",
       "    </tr>\n",
       "    <tr>\n",
       "      <th>4</th>\n",
       "      <td>BIOMM S.A. Companhia Aberta CNPJ/MF Nº 04....</td>\n",
       "      <td>Dividendo</td>\n",
       "      <td>./data/Dividendo/(Biomm) Aviso aos Acionistas ...</td>\n",
       "    </tr>\n",
       "  </tbody>\n",
       "</table>\n",
       "</div>"
      ],
      "text/plain": [
       "                                              Corpus      Label  \\\n",
       "0  ˘ˇˆ˙˝˛˚˜˝ˇ˚ ˆ!˚˛ˇ\"˜# ˇ$$%ˇ˜˜&&&˝˘˛˝&$ˇˇ&˚&'˛&˝...  Dividendo   \n",
       "1     TELEFÔNICA BRASIL S.A. Companhia Aberta CNP...  Dividendo   \n",
       "2   BIOMM S. A. CNPJ/MF N0 04.752.991/0001-10 NIR...  Dividendo   \n",
       "3     BIOMM S. A. CNPJ/MF Nº 04.752.991/0001-10 N...  Dividendo   \n",
       "4      BIOMM S.A. Companhia Aberta CNPJ/MF Nº 04....  Dividendo   \n",
       "\n",
       "                                                file  \n",
       "0  ./data/Dividendo/(1 EDITAL DE CONVOCAÇÃO 201...  \n",
       "1  ./data/Dividendo/(2017.02.13) Ata 311ª RCA - J...  \n",
       "2  ./data/Dividendo/(Biomm) Ata AGO 29 04 2013(2)...  \n",
       "3  ./data/Dividendo/(Biomm) ata AGOE_30abril2014_...  \n",
       "4  ./data/Dividendo/(Biomm) Aviso aos Acionistas ...  "
      ]
     },
     "execution_count": 7,
     "metadata": {},
     "output_type": "execute_result"
    }
   ],
   "source": [
    "data_raw_dividendo.head()"
   ]
  },
  {
   "cell_type": "code",
   "execution_count": 6,
   "metadata": {
    "collapsed": false
   },
   "outputs": [],
   "source": [
    " corrupted_files_dividendo = [1,13,29,32,36,39,40,45,49,50,52,56,57,58,59,60,61,62,65,66,72,73,75,77,78,80,81,82, \\\n",
    "                             83,85,90,92,98,104,115,121,122,125,126,128,138,139,154,155,158,161,162,163,166,167, \\\n",
    "                             171,173,174,185,194,199,200,201,202,203,205,206,209,211,212,216,218,221,224,226,228,\\\n",
    "                             235,236,237,238,239,240,242,243,244,248,262,265,266,275,277,280,282,283,285,286,303,\\\n",
    "                             309,311,312,314,321,326,327,341,342,345,347,354,386,388,389,390,392,415,457,461,468,\\\n",
    "                             469,474,477,487,489,491,492,509,515,548,587,590,609,662,668,672,682,686,687,692,696,\\\n",
    "                             704,705,713,714,723,726,732,739,742,743,744,746,750,751,752,766,767,768,769,773,774,\\\n",
    "                             780,788,792,801,802,805,806,807,808,812,815,817,818,820,828,830,832,833,838,839,844,\\\n",
    "                             845,847,848,849,851,852,859,860,861,862,863,868,869,1001,1002,1063,1064,1071,1072,1074,\\\n",
    "                             1090,1152,1165,1228,1232,1233,1243,1249,1258,1265,1266,1270,1271,1272,1284,1289,1290,\\\n",
    "                             1294,1003,1006,1313,1317,1328,1336,1340,1342,1347,1352,1353,1356,1358,1359,1367,1370,\\\n",
    "                             1373,1374,1375,1376,1377,1378,1379,1388,1390,1392,1394,1410,1487,1497,1499,1500,1557,\\\n",
    "                             1586,1589,1601,1605,1606,1611,1612,1613,1615,1770,1771,1802,1811,1835,1840,1841,1895,\\\n",
    "                             1910,1911,1915,1969,1970,1971,1972,1973,1974,1975,1977,1978,1986,2004,2005,2006,2010,\\\n",
    "                             2020,2021,2033,2047,2059,2077,2078,2084,2121,2149,2153,2155,2160,2163,2168,2169,2170,\\\n",
    "                             2173,2183,2195,2213,2228,2277,2281,2343,2352,2354,2361,2362,2363,2366,2368,2371,2454,\\\n",
    "                             2463,2467,2471,2504,2506,2507,2508,2509,2510,2513,2550,2558,2570,2571,2580,2585,2602,\\\n",
    "                             2664,2689,2690,2695,2698,2700,2710,2711,2713,2722,2734,2739,2743,2744,2745,2746,2747,\\\n",
    "                             2748,2749,2750,2751,2752,2753,2754,2755,2756,2757,2768,2769,2781,2783,2784,2785,2786,\\\n",
    "                             2787,2788,2789,2795,2796,2797,2925,2927,2933,2941,2956,2964,2965,2974,2985,2989,2990,\\\n",
    "                             3018,3020,3028,3042,3047,3051,3053,3054,3070,3087,3091,3122,3132,3133,3134,3145,3155,\\\n",
    "                             3164,3171,3191,3192,3193,3194,3199,3201,3204,3224,3225,3234,3241,3269,3286,3307,3322,\\\n",
    "                             3327,3334,3340,3350,3355,3356,3360,3361,3363,3364,3367,3399,3400,3410,3411,3417,3418,\\\n",
    "                             3419,3425,3427,3428,3429,3430,3431,3432,3433,3434,3435,3436,3437,3438,3818,3819,3823,\\\n",
    "                             3824,3825,3829,3831,3832,3833,3835,3836,3845,3847,3858,3859,3860,3868,3869,3879,3880,\\\n",
    "                             3882,3883,3884,3893,3902,3904,3908,3909,3910,3923,3925,3926,3928,3962,3968,3969,3976,\\\n",
    "                             3988,3997,4004,4007,4026,4042,4058,4066,4076,4077,4079,4090,4091,4092,4094,4095,4098,\\\n",
    "                             4099,4100,4164,4166,4167,4168,4178,4199,4211,4212,4217,4218,4219,4220,4221,4222,4223,\\\n",
    "                             4230,4233,4238,4249,4250,4251,4348,4357,4360,4440,4446,4447,4450]"
   ]
  },
  {
   "cell_type": "code",
   "execution_count": null,
   "metadata": {
    "collapsed": true
   },
   "outputs": [],
   "source": [
    "#Saving the name of wrong files for future cleaning up\n",
    "data_raw_dividendo['file'].iloc[corrupted_files_dividendo].to_csv('./data/files/dividendo_wrong.csv')"
   ]
  },
  {
   "cell_type": "code",
   "execution_count": null,
   "metadata": {
    "collapsed": true
   },
   "outputs": [],
   "source": [
    "#Deleting wrong files\n",
    "data_raw_dividendo.drop(data_raw.index[corrupted_files_ofertapublica], inplace=True)"
   ]
  },
  {
   "cell_type": "code",
   "execution_count": null,
   "metadata": {
    "collapsed": true
   },
   "outputs": [],
   "source": [
    "#Saving clean Data\n",
    "data_raw_dividendo.to_pickle('./data/data_clean/Data_Clean_dividendo.pik')"
   ]
  },
  {
   "cell_type": "markdown",
   "metadata": {},
   "source": [
    "### Loading Direito preferencia raw data"
   ]
  },
  {
   "cell_type": "code",
   "execution_count": 8,
   "metadata": {
    "collapsed": true
   },
   "outputs": [],
   "source": [
    "data_raw_direitopreferencia = pd.read_pickle('./data/data_raw/data_raw_direitopreferencia.pik')"
   ]
  },
  {
   "cell_type": "code",
   "execution_count": 9,
   "metadata": {
    "collapsed": false
   },
   "outputs": [
    {
     "data": {
      "text/html": [
       "<div>\n",
       "<table border=\"1\" class=\"dataframe\">\n",
       "  <thead>\n",
       "    <tr style=\"text-align: right;\">\n",
       "      <th></th>\n",
       "      <th>Corpus</th>\n",
       "      <th>Label</th>\n",
       "      <th>file</th>\n",
       "    </tr>\n",
       "  </thead>\n",
       "  <tbody>\n",
       "    <tr>\n",
       "      <th>0</th>\n",
       "      <td>São Paulo, 13 de novembro de 2015.  À BM&amp;FBOVE...</td>\n",
       "      <td>Direito de Preferencia</td>\n",
       "      <td>./data/Direito de Preferencia/(2015 11 13) - B...</td>\n",
       "    </tr>\n",
       "    <tr>\n",
       "      <th>1</th>\n",
       "      <td>ˇˆ˙˙˝˙˘˘ˇˆ˙˝˛˚˛˚˝˜ ˛ !˛˚˙˙ˆ˙˜ ˙˚\"ˇ˝˛˝#$%ˇ˙˙ˆ˙˜...</td>\n",
       "      <td>Direito de Preferencia</td>\n",
       "      <td>./data/Direito de Preferencia/(2016 09 27) - B...</td>\n",
       "    </tr>\n",
       "    <tr>\n",
       "      <th>2</th>\n",
       "      <td></td>\n",
       "      <td>Direito de Preferencia</td>\n",
       "      <td>./data/Direito de Preferencia/.DS_Store</td>\n",
       "    </tr>\n",
       "    <tr>\n",
       "      <th>3</th>\n",
       "      <td>1   AVISO AOS ACIONISTAS   CNPJ/MF: 11.721.921...</td>\n",
       "      <td>Direito de Preferencia</td>\n",
       "      <td>./data/Direito de Preferencia/02.03.16- Aviso ...</td>\n",
       "    </tr>\n",
       "    <tr>\n",
       "      <th>4</th>\n",
       "      <td>Press Release                   Vale e...</td>\n",
       "      <td>Direito de Preferencia</td>\n",
       "      <td>./data/Direito de Preferencia/0314_Capim_Branc...</td>\n",
       "    </tr>\n",
       "  </tbody>\n",
       "</table>\n",
       "</div>"
      ],
      "text/plain": [
       "                                              Corpus                   Label  \\\n",
       "0  São Paulo, 13 de novembro de 2015.  À BM&FBOVE...  Direito de Preferencia   \n",
       "1  ˇˆ˙˙˝˙˘˘ˇˆ˙˝˛˚˛˚˝˜ ˛ !˛˚˙˙ˆ˙˜ ˙˚\"ˇ˝˛˝#$%ˇ˙˙ˆ˙˜...  Direito de Preferencia   \n",
       "2                                                     Direito de Preferencia   \n",
       "3  1   AVISO AOS ACIONISTAS   CNPJ/MF: 11.721.921...  Direito de Preferencia   \n",
       "4          Press Release                   Vale e...  Direito de Preferencia   \n",
       "\n",
       "                                                file  \n",
       "0  ./data/Direito de Preferencia/(2015 11 13) - B...  \n",
       "1  ./data/Direito de Preferencia/(2016 09 27) - B...  \n",
       "2            ./data/Direito de Preferencia/.DS_Store  \n",
       "3  ./data/Direito de Preferencia/02.03.16- Aviso ...  \n",
       "4  ./data/Direito de Preferencia/0314_Capim_Branc...  "
      ]
     },
     "execution_count": 9,
     "metadata": {},
     "output_type": "execute_result"
    }
   ],
   "source": [
    "data_raw_direitopreferencia.head()"
   ]
  },
  {
   "cell_type": "code",
   "execution_count": 10,
   "metadata": {
    "collapsed": true
   },
   "outputs": [],
   "source": [
    "corrupted_files_direitopreferencia = [1,2,5,8,10,26,27,47,49,52,55,56,57,59,64,65,66,67,69,70,71,75,76,77,78,79, \\\n",
    "                                      80,81,82,83,84,85,86,87,88,92,99,101,117,120,127,130,138,151,161,167,169,  \\\n",
    "                                      170,185,186,187,188,197,204,214,215,222,229,235,248,258,261,271,285,293,   \\\n",
    "                                      300,351,352,354]"
   ]
  },
  {
   "cell_type": "code",
   "execution_count": null,
   "metadata": {
    "collapsed": true
   },
   "outputs": [],
   "source": [
    "#Saving the name of wrong files for future cleaning up\n",
    "data_raw_direitopreferencia['file'].iloc[corrupted_files_direitopreferencia].to_csv('./data/files/direitopreferencia_wrong.csv')"
   ]
  },
  {
   "cell_type": "code",
   "execution_count": null,
   "metadata": {
    "collapsed": true
   },
   "outputs": [],
   "source": [
    "#Deleting wrong files\n",
    "data_raw_direitopreferencia.drop(data_raw.index[corrupted_files_direitopreferencia], inplace=True)"
   ]
  },
  {
   "cell_type": "code",
   "execution_count": null,
   "metadata": {
    "collapsed": true
   },
   "outputs": [],
   "source": [
    "#Saving clean Data\n",
    "data_raw_dividendo.to_pickle('./data/data_clean/Data_Clean_dividendo.pik')"
   ]
  },
  {
   "cell_type": "markdown",
   "metadata": {},
   "source": [
    "### Loading subscricao raw data"
   ]
  },
  {
   "cell_type": "code",
   "execution_count": 11,
   "metadata": {
    "collapsed": true
   },
   "outputs": [],
   "source": [
    "data_raw_subscricao = pd.read_pickle('./data/data_raw/data_raw_subscricao.pik')"
   ]
  },
  {
   "cell_type": "code",
   "execution_count": 12,
   "metadata": {
    "collapsed": false
   },
   "outputs": [
    {
     "data": {
      "text/html": [
       "<div>\n",
       "<table border=\"1\" class=\"dataframe\">\n",
       "  <thead>\n",
       "    <tr style=\"text-align: right;\">\n",
       "      <th></th>\n",
       "      <th>Corpus</th>\n",
       "      <th>Label</th>\n",
       "      <th>file</th>\n",
       "    </tr>\n",
       "  </thead>\n",
       "  <tbody>\n",
       "    <tr>\n",
       "      <th>0</th>\n",
       "      <td>Energisa S. A.  Matriz:  Filial: CNPJ: 00.86...</td>\n",
       "      <td>Subscrição</td>\n",
       "      <td>./data/Subscrição/#166982v3 - Projeto Copaca...</td>\n",
       "    </tr>\n",
       "    <tr>\n",
       "      <th>1</th>\n",
       "      <td>REFINARIA DE PETRÓLEOS DE MA...</td>\n",
       "      <td>Subscrição</td>\n",
       "      <td>./data/Subscrição/#435752-v1-REFINARIA - AVI...</td>\n",
       "    </tr>\n",
       "    <tr>\n",
       "      <th>2</th>\n",
       "      <td>ONE PROPERTIES S....</td>\n",
       "      <td>Subscrição</td>\n",
       "      <td>./data/Subscrição/#448711-v7-AEV - 2ª CONVOC...</td>\n",
       "    </tr>\n",
       "    <tr>\n",
       "      <th>3</th>\n",
       "      <td>ONE PROPERTIES S....</td>\n",
       "      <td>Subscrição</td>\n",
       "      <td>./data/Subscrição/#460285-v4-AEV - 2ª CONVOC...</td>\n",
       "    </tr>\n",
       "    <tr>\n",
       "      <th>4</th>\n",
       "      <td></td>\n",
       "      <td>Subscrição</td>\n",
       "      <td>./data/Subscrição/(Biomm) Ata RCA_28mai2013.pdf</td>\n",
       "    </tr>\n",
       "  </tbody>\n",
       "</table>\n",
       "</div>"
      ],
      "text/plain": [
       "                                              Corpus         Label  \\\n",
       "0    Energisa S. A.  Matriz:  Filial: CNPJ: 00.86...  Subscrição   \n",
       "1                    REFINARIA DE PETRÓLEOS DE MA...  Subscrição   \n",
       "2                               ONE PROPERTIES S....  Subscrição   \n",
       "3                               ONE PROPERTIES S....  Subscrição   \n",
       "4                                                     Subscrição   \n",
       "\n",
       "                                                file  \n",
       "0  ./data/Subscrição/#166982v3 - Projeto Copaca...  \n",
       "1  ./data/Subscrição/#435752-v1-REFINARIA - AVI...  \n",
       "2  ./data/Subscrição/#448711-v7-AEV - 2ª CONVOC...  \n",
       "3  ./data/Subscrição/#460285-v4-AEV - 2ª CONVOC...  \n",
       "4  ./data/Subscrição/(Biomm) Ata RCA_28mai2013.pdf  "
      ]
     },
     "execution_count": 12,
     "metadata": {},
     "output_type": "execute_result"
    }
   ],
   "source": [
    "data_raw_subscricao.head()"
   ]
  },
  {
   "cell_type": "code",
   "execution_count": 14,
   "metadata": {
    "collapsed": true
   },
   "outputs": [],
   "source": [
    "corrupted_files_subscricao = [4,8,16,18,22,25,26,27,28,29,30,34,36,37,43,44,51,52,53,59,60,92,106,107,110,113,114,  \\\n",
    "                            116,117,127,134,148,149,150,156,157,158,159,165,166,167,175,176,183,184,185,191,196,199,\\\n",
    "                            200,222,223,232,236,242,244,246,247,249,250,255,257,258,260,268,269,270,271,276,277,291,\\\n",
    "                            292,293,294,298,301,304,306,309,310,311,313,314,325,327,328,329,330,332,333,334,338,340,\\\n",
    "                            358,363,365,366,367,368,370,385,395,396,397,404,411,414,419,424,425,428,429,432,434,439,\\\n",
    "                            440,441,443,448,450,451,452,455,462,463,464,467,468,469,476,481,482,485,486,492,501,508,\\\n",
    "                            522,526,533,535,541,544,551,552,560,568,576,596,615,621,646,649,652,653,657,659,660,750,\\\n",
    "                            759,773,786,787,793,795,806,817,827,835,841,842,844,848,859,860,862,863,871,874,887,891,\\\n",
    "                            893,904,961,965,968,980,981,982,984,985,986,987,988,989,996,1003,1004,1006,1023,1028, \\\n",
    "                            1033,1037,1040,1048,1052,1054,1055,1056,1060,1061,1062,1063,1064,1069,1070,1073,1075, \\\n",
    "                            1076,1084,1087,1088,1089,1090,1091,1096,1098,1099,1100,1105,1106,1107,1109,1110,1125, \\\n",
    "                            1133,1135,1136,1138,1140,1165,1166,1172,1174,1177,1180,1181,1182,1189 ]"
   ]
  },
  {
   "cell_type": "code",
   "execution_count": null,
   "metadata": {
    "collapsed": true
   },
   "outputs": [],
   "source": [
    "#Saving the name of wrong files for future cleaning up\n",
    "data_raw_subscricao['file'].iloc[corrupted_files_subscricao].to_csv('./data/files/subscricao_wrong.csv')"
   ]
  },
  {
   "cell_type": "code",
   "execution_count": null,
   "metadata": {
    "collapsed": true
   },
   "outputs": [],
   "source": [
    "#Deleting wrong files\n",
    "data_raw_subscricao.drop(data_raw.index[corrupted_files_subscricao], inplace=True)"
   ]
  },
  {
   "cell_type": "code",
   "execution_count": null,
   "metadata": {
    "collapsed": true
   },
   "outputs": [],
   "source": [
    "#Saving clean Data\n",
    "data_raw_subscricao.to_pickle('./data/data_clean/Data_Clean_subscricao.pik')"
   ]
  },
  {
   "cell_type": "markdown",
   "metadata": {},
   "source": [
    "### Loading recuperacao judicial raw data"
   ]
  },
  {
   "cell_type": "code",
   "execution_count": 16,
   "metadata": {
    "collapsed": false
   },
   "outputs": [],
   "source": [
    "data_raw_recuperacao = pd.read_pickle('./data/data_raw/data_raw_recuperacaojudicial.pik')"
   ]
  },
  {
   "cell_type": "code",
   "execution_count": 17,
   "metadata": {
    "collapsed": false
   },
   "outputs": [
    {
     "data": {
      "text/html": [
       "<div>\n",
       "<table border=\"1\" class=\"dataframe\">\n",
       "  <thead>\n",
       "    <tr style=\"text-align: right;\">\n",
       "      <th></th>\n",
       "      <th>Corpus</th>\n",
       "      <th>Label</th>\n",
       "      <th>file</th>\n",
       "    </tr>\n",
       "  </thead>\n",
       "  <tbody>\n",
       "    <tr>\n",
       "      <th>0</th>\n",
       "      <td>PPLLAANNOO  ...</td>\n",
       "      <td>Pedido de Recuperação Judicial</td>\n",
       "      <td>./data/Pedido de Recuperação Judicial/(Plano...</td>\n",
       "    </tr>\n",
       "    <tr>\n",
       "      <th>1</th>\n",
       "      <td></td>\n",
       "      <td>Pedido de Recuperação Judicial</td>\n",
       "      <td>./data/Pedido de Recuperação Judicial/.DS_Store</td>\n",
       "    </tr>\n",
       "    <tr>\n",
       "      <th>2</th>\n",
       "      <td>Oi S.A.  Em Recuperação Judicial CNPJ/MF nº...</td>\n",
       "      <td>Pedido de Recuperação Judicial</td>\n",
       "      <td>./data/Pedido de Recuperação Judicial/03.10....</td>\n",
       "    </tr>\n",
       "    <tr>\n",
       "      <th>3</th>\n",
       "      <td>˘ˇˆ˙˝˛˚˜ ˛!\"#$%&amp;'(%)*\"+)(˘ˇˇ˘ˆ˙˝˛˚ˇ˝˜˙˛˙ !\"#$%...</td>\n",
       "      <td>Pedido de Recuperação Judicial</td>\n",
       "      <td>./data/Pedido de Recuperação Judicial/04 07 ...</td>\n",
       "    </tr>\n",
       "    <tr>\n",
       "      <th>4</th>\n",
       "      <td>˘ˇˆ˙˝˛˚˜ ˛!\"#$%&amp;'(%)*\"+)(˘ˇˇ˘ˆ˙˝˛˚ˇ˝˜˙˛˙ !\"#$%...</td>\n",
       "      <td>Pedido de Recuperação Judicial</td>\n",
       "      <td>./data/Pedido de Recuperação Judicial/04 07 ...</td>\n",
       "    </tr>\n",
       "  </tbody>\n",
       "</table>\n",
       "</div>"
      ],
      "text/plain": [
       "                                              Corpus  \\\n",
       "0                                    PPLLAANNOO  ...   \n",
       "1                                                      \n",
       "2     Oi S.A.  Em Recuperação Judicial CNPJ/MF nº...   \n",
       "3  ˘ˇˆ˙˝˛˚˜ ˛!\"#$%&'(%)*\"+)(˘ˇˇ˘ˆ˙˝˛˚ˇ˝˜˙˛˙ !\"#$%...   \n",
       "4  ˘ˇˆ˙˝˛˚˜ ˛!\"#$%&'(%)*\"+)(˘ˇˇ˘ˆ˙˝˛˚ˇ˝˜˙˛˙ !\"#$%...   \n",
       "\n",
       "                              Label  \\\n",
       "0  Pedido de Recuperação Judicial   \n",
       "1  Pedido de Recuperação Judicial   \n",
       "2  Pedido de Recuperação Judicial   \n",
       "3  Pedido de Recuperação Judicial   \n",
       "4  Pedido de Recuperação Judicial   \n",
       "\n",
       "                                                file  \n",
       "0  ./data/Pedido de Recuperação Judicial/(Plano...  \n",
       "1  ./data/Pedido de Recuperação Judicial/.DS_Store  \n",
       "2  ./data/Pedido de Recuperação Judicial/03.10....  \n",
       "3  ./data/Pedido de Recuperação Judicial/04 07 ...  \n",
       "4  ./data/Pedido de Recuperação Judicial/04 07 ...  "
      ]
     },
     "execution_count": 17,
     "metadata": {},
     "output_type": "execute_result"
    }
   ],
   "source": [
    "data_raw_recuperacao.head()"
   ]
  },
  {
   "cell_type": "code",
   "execution_count": 18,
   "metadata": {
    "collapsed": false
   },
   "outputs": [],
   "source": [
    "corrupted_files_recupecao = [2,3,4,7,8,11,12,16,24,45,46,47,52,58,72,73,87,98,100,108,109, 114,115,116,117,119,  \\\n",
    "                            120,127,128,129,148,150,157,158,169,170,171,172,173,174,175,178,181,183,185,186,191, \\\n",
    "                            192,194,195,196,197,199,206,207,211,213,214,216,219,221,222,223,224,225,226,230,231, \\\n",
    "                            237,240,245,257,258,261,265,266,270,271,275,276,279,281,297,303,304,313,314,315,327, \\\n",
    "                            328,331,335,336,338,339,340,346,348,349,350,352,353,354,356,357,358,359,360,365,377, \\\n",
    "                            379,381,383,384,385,396,397,398,399,400,401,402,403,404,405,407,411,412,416,417,418, \\\n",
    "                            419,420,434,445,446,449,453,454,456,458,462,464,465,466,467,470,471,472,473,474,475, \\\n",
    "                            476,478,484,488,489]"
   ]
  },
  {
   "cell_type": "code",
   "execution_count": null,
   "metadata": {
    "collapsed": true
   },
   "outputs": [],
   "source": [
    "#Saving the name of wrong files for future cleaning up\n",
    "data_raw_recuperacao['file'].iloc[corrupted_files_recupecao].to_csv('./data/files/recuperacaojudicial_wrong.csv')"
   ]
  },
  {
   "cell_type": "code",
   "execution_count": null,
   "metadata": {
    "collapsed": true
   },
   "outputs": [],
   "source": [
    "#Deleting wrong files\n",
    "data_raw_recuperacao.drop(data_raw.index[corrupted_files_recupecao], inplace=True)"
   ]
  },
  {
   "cell_type": "code",
   "execution_count": null,
   "metadata": {
    "collapsed": true
   },
   "outputs": [],
   "source": [
    "#Saving clean Data\n",
    "data_raw_recuperacao.to_pickle('./data/data_clean/Data_Clean_RecupracaoJudicial.pik')"
   ]
  },
  {
   "cell_type": "markdown",
   "metadata": {},
   "source": [
    "### Loading Controle acionario raw data"
   ]
  },
  {
   "cell_type": "code",
   "execution_count": 19,
   "metadata": {
    "collapsed": true
   },
   "outputs": [],
   "source": [
    "data_raw_controle = pd.read_pickle('./data/data_raw/data_raw_controle.pik')"
   ]
  },
  {
   "cell_type": "code",
   "execution_count": 20,
   "metadata": {
    "collapsed": false
   },
   "outputs": [
    {
     "data": {
      "text/html": [
       "<div>\n",
       "<table border=\"1\" class=\"dataframe\">\n",
       "  <thead>\n",
       "    <tr style=\"text-align: right;\">\n",
       "      <th></th>\n",
       "      <th>Corpus</th>\n",
       "      <th>Label</th>\n",
       "      <th>file</th>\n",
       "    </tr>\n",
       "  </thead>\n",
       "  <tbody>\n",
       "    <tr>\n",
       "      <th>0</th>\n",
       "      <td></td>\n",
       "      <td>Controle Acionario</td>\n",
       "      <td>./data/Controle Acionario/03 - Fato Relevante ...</td>\n",
       "    </tr>\n",
       "    <tr>\n",
       "      <th>1</th>\n",
       "      <td></td>\n",
       "      <td>Controle Acionario</td>\n",
       "      <td>./data/Controle Acionario/03 - Fato Relevante ...</td>\n",
       "    </tr>\n",
       "    <tr>\n",
       "      <th>2</th>\n",
       "      <td>1   KEPLER WEBER S/A COMPANHIA ABERTA        ...</td>\n",
       "      <td>Controle Acionario</td>\n",
       "      <td>./data/Controle Acionario/09.02.2017 - Fato Re...</td>\n",
       "    </tr>\n",
       "    <tr>\n",
       "      <th>3</th>\n",
       "      <td>˘ˇˆ˙˝˘˘˛ˆ˚˜ ˘ˇˆ˙!\"#$%˙˝˘#&amp;'()*+,-.˜ /˝˛˚˜˛˛ˆˆ0...</td>\n",
       "      <td>Controle Acionario</td>\n",
       "      <td>./data/Controle Acionario/1 - BARIGUI_FatoRele...</td>\n",
       "    </tr>\n",
       "    <tr>\n",
       "      <th>4</th>\n",
       "      <td>AFLUENTE G Companhia Aberta CNPJ/MF Nº 07.62...</td>\n",
       "      <td>Controle Acionario</td>\n",
       "      <td>./data/Controle Acionario/11.28.16_Afluente G ...</td>\n",
       "    </tr>\n",
       "  </tbody>\n",
       "</table>\n",
       "</div>"
      ],
      "text/plain": [
       "                                              Corpus               Label  \\\n",
       "0                                                     Controle Acionario   \n",
       "1                                                     Controle Acionario   \n",
       "2   1   KEPLER WEBER S/A COMPANHIA ABERTA        ...  Controle Acionario   \n",
       "3  ˘ˇˆ˙˝˘˘˛ˆ˚˜ ˘ˇˆ˙!\"#$%˙˝˘#&'()*+,-.˜ /˝˛˚˜˛˛ˆˆ0...  Controle Acionario   \n",
       "4    AFLUENTE G Companhia Aberta CNPJ/MF Nº 07.62...  Controle Acionario   \n",
       "\n",
       "                                                file  \n",
       "0  ./data/Controle Acionario/03 - Fato Relevante ...  \n",
       "1  ./data/Controle Acionario/03 - Fato Relevante ...  \n",
       "2  ./data/Controle Acionario/09.02.2017 - Fato Re...  \n",
       "3  ./data/Controle Acionario/1 - BARIGUI_FatoRele...  \n",
       "4  ./data/Controle Acionario/11.28.16_Afluente G ...  "
      ]
     },
     "execution_count": 20,
     "metadata": {},
     "output_type": "execute_result"
    }
   ],
   "source": [
    "data_raw_controle.head()"
   ]
  },
  {
   "cell_type": "code",
   "execution_count": 21,
   "metadata": {
    "collapsed": true
   },
   "outputs": [],
   "source": [
    "corrupted_files_controle = [0,1,3,5,25,26,27,49,50,52,71,72,80,83,86,88,91,92,94,99,100,105,113,114,122, \\\n",
    "                            124,125,126,127,135,136,141,145,153,154,157,163,164,166]"
   ]
  },
  {
   "cell_type": "code",
   "execution_count": null,
   "metadata": {
    "collapsed": true
   },
   "outputs": [],
   "source": [
    "#Saving the name of wrong files for future cleaning up\n",
    "data_raw_controle['file'].iloc[corrupted_files_controle].to_csv('./data/files/controleacionario_wrong.csv')"
   ]
  },
  {
   "cell_type": "code",
   "execution_count": null,
   "metadata": {
    "collapsed": true
   },
   "outputs": [],
   "source": [
    "#Deleting wrong files\n",
    "data_raw_controle.drop(data_raw.index[corrupted_files_controle], inplace=True)"
   ]
  },
  {
   "cell_type": "code",
   "execution_count": null,
   "metadata": {
    "collapsed": true
   },
   "outputs": [],
   "source": [
    "#Saving clean Data\n",
    "data_raw_controle.to_pickle('./data/data_clean/Data_Clean_ControleAcionario.pik')"
   ]
  },
  {
   "cell_type": "markdown",
   "metadata": {},
   "source": [
    "### Loading cancelamento de registro raw data"
   ]
  },
  {
   "cell_type": "code",
   "execution_count": 22,
   "metadata": {
    "collapsed": true
   },
   "outputs": [],
   "source": [
    "data_raw_cancelamento = pd.read_pickle('./data/data_raw/data_raw_cancelamento.pik')"
   ]
  },
  {
   "cell_type": "code",
   "execution_count": 23,
   "metadata": {
    "collapsed": false
   },
   "outputs": [
    {
     "data": {
      "text/html": [
       "<div>\n",
       "<table border=\"1\" class=\"dataframe\">\n",
       "  <thead>\n",
       "    <tr style=\"text-align: right;\">\n",
       "      <th></th>\n",
       "      <th>Corpus</th>\n",
       "      <th>Label</th>\n",
       "      <th>file</th>\n",
       "    </tr>\n",
       "  </thead>\n",
       "  <tbody>\n",
       "    <tr>\n",
       "      <th>0</th>\n",
       "      <td>Tivit Terceirização de Processos, Serv...</td>\n",
       "      <td>Cancelamento de Registro</td>\n",
       "      <td>./data/Cancelamento de Registro/#337203-v1-EDI...</td>\n",
       "    </tr>\n",
       "    <tr>\n",
       "      <th>1</th>\n",
       "      <td>Laudo de Avaliação conforme Instrução CVM no 3...</td>\n",
       "      <td>Cancelamento de Registro</td>\n",
       "      <td>./data/Cancelamento de Registro/(141211) Laudo...</td>\n",
       "    </tr>\n",
       "    <tr>\n",
       "      <th>2</th>\n",
       "      <td></td>\n",
       "      <td>Cancelamento de Registro</td>\n",
       "      <td>./data/Cancelamento de Registro/.DS_Store</td>\n",
       "    </tr>\n",
       "    <tr>\n",
       "      <th>3</th>\n",
       "      <td>REC 844 SECURITIZADORA DE CRÉDITOS IMOBILIÁ...</td>\n",
       "      <td>Cancelamento de Registro</td>\n",
       "      <td>./data/Cancelamento de Registro/01 - REC 844 F...</td>\n",
       "    </tr>\n",
       "    <tr>\n",
       "      <th>4</th>\n",
       "      <td>Esta página é parte integrante da Ata da Assem...</td>\n",
       "      <td>Cancelamento de Registro</td>\n",
       "      <td>./data/Cancelamento de Registro/02.12.2016_Ata...</td>\n",
       "    </tr>\n",
       "  </tbody>\n",
       "</table>\n",
       "</div>"
      ],
      "text/plain": [
       "                                              Corpus  \\\n",
       "0          Tivit Terceirização de Processos, Serv...   \n",
       "1  Laudo de Avaliação conforme Instrução CVM no 3...   \n",
       "2                                                      \n",
       "3     REC 844 SECURITIZADORA DE CRÉDITOS IMOBILIÁ...   \n",
       "4  Esta página é parte integrante da Ata da Assem...   \n",
       "\n",
       "                      Label                                               file  \n",
       "0  Cancelamento de Registro  ./data/Cancelamento de Registro/#337203-v1-EDI...  \n",
       "1  Cancelamento de Registro  ./data/Cancelamento de Registro/(141211) Laudo...  \n",
       "2  Cancelamento de Registro          ./data/Cancelamento de Registro/.DS_Store  \n",
       "3  Cancelamento de Registro  ./data/Cancelamento de Registro/01 - REC 844 F...  \n",
       "4  Cancelamento de Registro  ./data/Cancelamento de Registro/02.12.2016_Ata...  "
      ]
     },
     "execution_count": 23,
     "metadata": {},
     "output_type": "execute_result"
    }
   ],
   "source": [
    "data_raw_cancelamento.head()"
   ]
  },
  {
   "cell_type": "code",
   "execution_count": 24,
   "metadata": {
    "collapsed": true
   },
   "outputs": [],
   "source": [
    "corrupted_files_cancelamento = [2,9,10,22,26,27,47,48,49,50,54,59,60,62,70,72,73,74,75,77,84,87,88,89,90,91,92,93,94,100, \\\n",
    "                   102,107,113,117,127,128,131,133,134,135,138,139,142,183,189,190,191,201,211,213,219,221,  \\\n",
    "                   224,227,233,234,246,249,254,257,259,260,261,269,274,275,278,282,288,296,297,298,299,302,  \\\n",
    "                   303,306,307,309,311,314,315,321,325,336,337,338,339,342,346,356,358,364,370]"
   ]
  },
  {
   "cell_type": "code",
   "execution_count": null,
   "metadata": {
    "collapsed": true
   },
   "outputs": [],
   "source": [
    "#Saving the name of wrong files for future cleaning up\n",
    "data_raw_cancelamento['file'].iloc[corrupted_files_cancelamento].to_csv('./data/files/cancelamento_wrong.csv')"
   ]
  },
  {
   "cell_type": "code",
   "execution_count": null,
   "metadata": {
    "collapsed": true
   },
   "outputs": [],
   "source": [
    "#Deleting wrong files\n",
    "data_raw_cancelamento.drop(data_raw.index[corrupted_files_cancelamento], inplace=True)"
   ]
  },
  {
   "cell_type": "code",
   "execution_count": null,
   "metadata": {
    "collapsed": true
   },
   "outputs": [],
   "source": [
    "#Saving clean Data\n",
    "data_raw_cancelamento.to_pickle('./data/data_clean/Data_Clean_CancelamentoRegistro.pik')"
   ]
  },
  {
   "cell_type": "markdown",
   "metadata": {},
   "source": [
    "## Loading all Clean Data and merging into a Single data file"
   ]
  },
  {
   "cell_type": "code",
   "execution_count": 25,
   "metadata": {
    "collapsed": true
   },
   "outputs": [],
   "source": [
    "Clean_Cancelamento = pd.read_pickle('./data/data_clean/Data_Clean_CancelamentoRegistro.pik')\n",
    "Clean_Controle = pd.read_pickle('./data/data_clean/Data_Clean_ControleAcionario.pik')\n",
    "Clean_Direito = pd.read_pickle('./data/data_clean/Data_Clean_direitopreferencia.pik')\n",
    "Clean_Dividendo = pd.read_pickle('./data/data_clean/Data_Clean_dividendo.pik')\n",
    "Clean_Oferta = pd.read_pickle('./data/data_clean/Data_Clean_ofertapublica.pik')\n",
    "Clean_Recuperacao = pd.read_pickle('./data/data_clean/Data_Clean_RecupracaoJudicial.pik')\n",
    "Clean_Subscricao = pd.read_pickle('./data/data_clean/Data_Clean_subscricao.pik')"
   ]
  },
  {
   "cell_type": "markdown",
   "metadata": {},
   "source": [
    "### Creating a single data file"
   ]
  },
  {
   "cell_type": "code",
   "execution_count": 29,
   "metadata": {
    "collapsed": false
   },
   "outputs": [],
   "source": [
    "#Creating a DataFrame\n",
    "data = pd.DataFrame(columns=['Label','Corpus','file'])"
   ]
  },
  {
   "cell_type": "code",
   "execution_count": 36,
   "metadata": {
    "collapsed": false
   },
   "outputs": [],
   "source": [
    "data = data.append([Clean_Cancelamento,Clean_Controle,Clean_Direito, Clean_Dividendo,  \\\n",
    "                    Clean_Oferta, Clean_Recuperacao, Clean_Subscricao], ignore_index=True)"
   ]
  },
  {
   "cell_type": "code",
   "execution_count": 43,
   "metadata": {
    "collapsed": false
   },
   "outputs": [
    {
     "data": {
      "text/plain": [
       "Corpus    6837\n",
       "Label     6837\n",
       "file      6837\n",
       "dtype: int64"
      ]
     },
     "execution_count": 43,
     "metadata": {},
     "output_type": "execute_result"
    }
   ],
   "source": [
    "data.count()"
   ]
  },
  {
   "cell_type": "code",
   "execution_count": 44,
   "metadata": {
    "collapsed": true
   },
   "outputs": [],
   "source": [
    "#Saving single file \n",
    "data.to_pickle('./data/data_clean/Data.pik')"
   ]
  }
 ],
 "metadata": {
  "kernelspec": {
   "display_name": "Python 3",
   "language": "python",
   "name": "python3"
  },
  "language_info": {
   "codemirror_mode": {
    "name": "ipython",
    "version": 3
   },
   "file_extension": ".py",
   "mimetype": "text/x-python",
   "name": "python",
   "nbconvert_exporter": "python",
   "pygments_lexer": "ipython3",
   "version": "3.6.0"
  }
 },
 "nbformat": 4,
 "nbformat_minor": 2
}
